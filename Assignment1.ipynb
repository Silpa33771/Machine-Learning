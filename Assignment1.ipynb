{
  "nbformat": 4,
  "nbformat_minor": 0,
  "metadata": {
    "colab": {
      "provenance": [],
      "authorship_tag": "ABX9TyMIGHVV8cmehAl3MiGr3jWC",
      "include_colab_link": true
    },
    "kernelspec": {
      "name": "python3",
      "display_name": "Python 3"
    },
    "language_info": {
      "name": "python"
    }
  },
  "cells": [
    {
      "cell_type": "markdown",
      "metadata": {
        "id": "view-in-github",
        "colab_type": "text"
      },
      "source": [
        "<a href=\"https://colab.research.google.com/github/Silpa33771/Machine-Learning/blob/main/Assignment1.ipynb\" target=\"_parent\"><img src=\"https://colab.research.google.com/assets/colab-badge.svg\" alt=\"Open In Colab\"/></a>"
      ]
    },
    {
      "cell_type": "code",
      "execution_count": 19,
      "metadata": {
        "id": "Upy54-fT_vnp"
      },
      "outputs": [],
      "source": [
        "import pandas as pd\n",
        "\n",
        "df = pd.read_csv('/content/data.csv')"
      ]
    },
    {
      "cell_type": "code",
      "source": [
        "print(df.describe())"
      ],
      "metadata": {
        "colab": {
          "base_uri": "https://localhost:8080/"
        },
        "id": "L25RrooYBfmK",
        "outputId": "177a604b-708b-40ce-f7ad-59fea5e5f46c"
      },
      "execution_count": 20,
      "outputs": [
        {
          "output_type": "stream",
          "name": "stdout",
          "text": [
            "         Duration       Pulse    Maxpulse     Calories\n",
            "count  169.000000  169.000000  169.000000   164.000000\n",
            "mean    63.846154  107.461538  134.047337   375.790244\n",
            "std     42.299949   14.510259   16.450434   266.379919\n",
            "min     15.000000   80.000000  100.000000    50.300000\n",
            "25%     45.000000  100.000000  124.000000   250.925000\n",
            "50%     60.000000  105.000000  131.000000   318.600000\n",
            "75%     60.000000  111.000000  141.000000   387.600000\n",
            "max    300.000000  159.000000  184.000000  1860.400000\n"
          ]
        }
      ]
    },
    {
      "cell_type": "code",
      "source": [
        "print(df.isnull().sum())"
      ],
      "metadata": {
        "id": "ccg1Pw8ABibr",
        "outputId": "cda7f776-90e4-4c88-faa0-f4bd3d03b9e8",
        "colab": {
          "base_uri": "https://localhost:8080/"
        }
      },
      "execution_count": 30,
      "outputs": [
        {
          "output_type": "stream",
          "name": "stdout",
          "text": [
            "Duration    0\n",
            "Pulse       0\n",
            "Calories    0\n",
            "dtype: int64\n"
          ]
        }
      ]
    },
    {
      "cell_type": "code",
      "source": [
        "df.fillna(df.mean(), inplace=True)\n"
      ],
      "metadata": {
        "id": "yq0ovDEHLao1"
      },
      "execution_count": 34,
      "outputs": []
    },
    {
      "cell_type": "code",
      "source": [
        "print(df[['Pulse', 'Calories']].agg(['min', 'max', 'count', 'mean']))"
      ],
      "metadata": {
        "colab": {
          "base_uri": "https://localhost:8080/"
        },
        "id": "sfQhThNQLjcN",
        "outputId": "cd068199-cbf2-46fe-b920-2b9bacf5089a"
      },
      "execution_count": 35,
      "outputs": [
        {
          "output_type": "stream",
          "name": "stdout",
          "text": [
            "            Pulse     Calories\n",
            "min     80.000000    50.000000\n",
            "max    159.000000  1860.000000\n",
            "count  169.000000   169.000000\n",
            "mean   107.461538   375.544379\n"
          ]
        }
      ]
    },
    {
      "cell_type": "code",
      "source": [
        "filtered_df = df[(df['Calories'] >= 500) & (df['Calories'] <= 1000)]\n",
        "print(filtered_df)"
      ],
      "metadata": {
        "colab": {
          "base_uri": "https://localhost:8080/"
        },
        "id": "Ow3eYVqKLkx_",
        "outputId": "38720af8-64b5-43eb-cf90-f519c5c3d8d2"
      },
      "execution_count": 25,
      "outputs": [
        {
          "output_type": "stream",
          "name": "stdout",
          "text": [
            "     Duration  Pulse  Maxpulse  Calories\n",
            "51         80    123       146     643.1\n",
            "62        160    109       135     853.0\n",
            "65        180     90       130     800.4\n",
            "66        150    105       135     873.4\n",
            "67        150    107       130     816.0\n",
            "72         90    100       127     700.0\n",
            "73        150     97       127     953.2\n",
            "75         90     98       125     563.2\n",
            "78        120    100       130     500.4\n",
            "83        120    100       130     500.0\n",
            "90        180    101       127     600.1\n",
            "99         90     93       124     604.1\n",
            "101        90     90       110     500.0\n",
            "102        90     90       100     500.0\n",
            "103        90     90       100     500.4\n",
            "106       180     90       120     800.3\n",
            "108        90     90       120     500.3\n"
          ]
        }
      ]
    },
    {
      "cell_type": "code",
      "source": [
        "filtered_df = df[(df['Calories'] > 500) & (df['Pulse'] < 100)]\n",
        "print(filtered_df)\n"
      ],
      "metadata": {
        "colab": {
          "base_uri": "https://localhost:8080/"
        },
        "id": "VvrpfUalLlM2",
        "outputId": "c789cb95-8c32-4581-a3b5-6fefa683c879"
      },
      "execution_count": 26,
      "outputs": [
        {
          "output_type": "stream",
          "name": "stdout",
          "text": [
            "     Duration  Pulse  Maxpulse  Calories\n",
            "65        180     90       130     800.4\n",
            "70        150     97       129    1115.0\n",
            "73        150     97       127     953.2\n",
            "75         90     98       125     563.2\n",
            "99         90     93       124     604.1\n",
            "103        90     90       100     500.4\n",
            "106       180     90       120     800.3\n",
            "108        90     90       120     500.3\n"
          ]
        }
      ]
    },
    {
      "cell_type": "code",
      "source": [
        "df_modified = df.drop('Maxpulse', axis=1)\n",
        "print(df_modified.head())"
      ],
      "metadata": {
        "colab": {
          "base_uri": "https://localhost:8080/"
        },
        "id": "sCdp4JoJLtpM",
        "outputId": "f0de569d-604c-44d0-df75-0040472a2869"
      },
      "execution_count": 27,
      "outputs": [
        {
          "output_type": "stream",
          "name": "stdout",
          "text": [
            "   Duration  Pulse  Calories\n",
            "0        60    110     409.1\n",
            "1        60    117     479.0\n",
            "2        60    103     340.0\n",
            "3        45    109     282.4\n",
            "4        45    117     406.0\n"
          ]
        }
      ]
    },
    {
      "cell_type": "code",
      "source": [
        "df = df.drop('Maxpulse', axis=1)\n",
        "print(df.head())"
      ],
      "metadata": {
        "colab": {
          "base_uri": "https://localhost:8080/"
        },
        "id": "opwEnRE8LvJU",
        "outputId": "f355075c-f134-41e8-cc78-75907dd0fb41"
      },
      "execution_count": 28,
      "outputs": [
        {
          "output_type": "stream",
          "name": "stdout",
          "text": [
            "   Duration  Pulse  Calories\n",
            "0        60    110     409.1\n",
            "1        60    117     479.0\n",
            "2        60    103     340.0\n",
            "3        45    109     282.4\n",
            "4        45    117     406.0\n"
          ]
        }
      ]
    },
    {
      "cell_type": "code",
      "source": [
        "df['Calories'] = df['Calories'].astype(int)\n",
        "print(df.dtypes)"
      ],
      "metadata": {
        "colab": {
          "base_uri": "https://localhost:8080/"
        },
        "id": "502sK6GPLyW1",
        "outputId": "d46008c5-92dd-4b79-c32e-d4d719f93d81"
      },
      "execution_count": 29,
      "outputs": [
        {
          "output_type": "stream",
          "name": "stdout",
          "text": [
            "Duration    int64\n",
            "Pulse       int64\n",
            "Calories    int64\n",
            "dtype: object\n"
          ]
        }
      ]
    }
  ]
}