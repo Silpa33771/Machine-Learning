{
  "nbformat": 4,
  "nbformat_minor": 0,
  "metadata": {
    "colab": {
      "provenance": [],
      "authorship_tag": "ABX9TyNMK7PrU+sIfiMb/jwsVKbd",
      "include_colab_link": true
    },
    "kernelspec": {
      "name": "python3",
      "display_name": "Python 3"
    },
    "language_info": {
      "name": "python"
    }
  },
  "cells": [
    {
      "cell_type": "markdown",
      "metadata": {
        "id": "view-in-github",
        "colab_type": "text"
      },
      "source": [
        "<a href=\"https://colab.research.google.com/github/Silpa33771/Machine-Learning/blob/main/ML_Assignment2.ipynb\" target=\"_parent\"><img src=\"https://colab.research.google.com/assets/colab-badge.svg\" alt=\"Open In Colab\"/></a>"
      ]
    },
    {
      "cell_type": "code",
      "execution_count": 2,
      "metadata": {
        "colab": {
          "base_uri": "https://localhost:8080/"
        },
        "id": "P8HDF25CvyZr",
        "outputId": "c8eebcc2-f5bb-4c51-8b82-66bb27be2493"
      },
      "outputs": [
        {
          "output_type": "stream",
          "name": "stdout",
          "text": [
            "* \n",
            "* * \n",
            "* * * \n",
            "* * * * \n",
            "* * * * * \n",
            "* * * * \n",
            "* * * \n",
            "* * \n",
            "* \n"
          ]
        }
      ],
      "source": [
        "# Set the number of rows for the upper half of the pattern\n",
        "rows = 5\n",
        "\n",
        "# Generate the upper half of the star pattern\n",
        "for stars in range(1, rows + 1):\n",
        "    print('* ' * stars)\n",
        "\n",
        "# Generate the lower half of the star pattern\n",
        "for stars in range(rows - 1, 0, -1):\n",
        "    print('* ' * stars)\n"
      ]
    },
    {
      "cell_type": "code",
      "source": [
        "# Given list\n",
        "my_list = [10, 20, 30, 40, 50, 60, 70, 80, 90, 100]\n",
        "\n",
        "# Iterate through the list, accessing elements at odd positions\n",
        "for index in range(1, len(my_list), 2):\n",
        "    print(my_list[index])\n"
      ],
      "metadata": {
        "colab": {
          "base_uri": "https://localhost:8080/"
        },
        "id": "idI0mU66wEMt",
        "outputId": "2966f892-435b-4aa9-9b12-e2be8225db00"
      },
      "execution_count": 3,
      "outputs": [
        {
          "output_type": "stream",
          "name": "stdout",
          "text": [
            "20\n",
            "40\n",
            "60\n",
            "80\n",
            "100\n"
          ]
        }
      ]
    },
    {
      "cell_type": "code",
      "source": [
        "# Define the input list\n",
        "x = [23, 'Python', 23.98]\n",
        "\n",
        "# Generate a list containing the types of each element in the input list\n",
        "element_types = [type(item) for item in x]\n",
        "\n",
        "# Display the original list\n",
        "print(x)\n",
        "\n",
        "# Display the list of element types\n",
        "print(element_types)\n"
      ],
      "metadata": {
        "colab": {
          "base_uri": "https://localhost:8080/"
        },
        "id": "gci4volDwfr7",
        "outputId": "e21b7401-e106-426f-b45d-5f2e9df5ec51"
      },
      "execution_count": 4,
      "outputs": [
        {
          "output_type": "stream",
          "name": "stdout",
          "text": [
            "[23, 'Python', 23.98]\n",
            "[<class 'int'>, <class 'str'>, <class 'float'>]\n"
          ]
        }
      ]
    },
    {
      "cell_type": "code",
      "source": [
        "def extract_unique_elements(input_list):\n",
        "    # Convert the input list to a set to eliminate duplicates and back to a list\n",
        "    unique_elements = list(set(input_list))\n",
        "    return unique_elements\n",
        "\n",
        "# Example list\n",
        "example_list = [1, 2, 3, 3, 3, 3, 4, 5]\n",
        "\n",
        "# Obtain the unique elements\n",
        "unique_list = extract_unique_elements(example_list)\n",
        "\n",
        "# Display the unique list\n",
        "print(unique_list)\n"
      ],
      "metadata": {
        "colab": {
          "base_uri": "https://localhost:8080/"
        },
        "id": "VI6ys744xNjk",
        "outputId": "a88b8cf0-4650-4c8e-8a99-42d6c1b727c1"
      },
      "execution_count": 5,
      "outputs": [
        {
          "output_type": "stream",
          "name": "stdout",
          "text": [
            "[1, 2, 3, 4, 5]\n"
          ]
        }
      ]
    },
    {
      "cell_type": "code",
      "source": [
        "def count_upper_lower(input_string):\n",
        "    # Initialize counters for upper and lower case letters\n",
        "    upper_count = 0\n",
        "    lower_count = 0\n",
        "\n",
        "    # Iterate through each character in the string\n",
        "    for char in input_string:\n",
        "        if char.isupper():\n",
        "            upper_count += 1\n",
        "        elif char.islower():\n",
        "            lower_count += 1\n",
        "\n",
        "    # Output the counts\n",
        "    print(f\"Number of Upper-case characters: {upper_count}\")\n",
        "    print(f\"Number of Lower-case Characters: {lower_count}\")\n",
        "\n",
        "# Input string\n",
        "input_str = 'The quick Brow Fox'\n",
        "\n",
        "# Call the function with the input string\n",
        "count_upper_lower(input_str)\n"
      ],
      "metadata": {
        "colab": {
          "base_uri": "https://localhost:8080/"
        },
        "id": "6wD_nUxexvyf",
        "outputId": "358e9fda-4153-4dfe-964f-e4557d7569bd"
      },
      "execution_count": 6,
      "outputs": [
        {
          "output_type": "stream",
          "name": "stdout",
          "text": [
            "Number of Upper-case characters: 3\n",
            "Number of Lower-case Characters: 12\n"
          ]
        }
      ]
    }
  ]
}